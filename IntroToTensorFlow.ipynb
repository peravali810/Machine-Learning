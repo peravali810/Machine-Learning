{
  "nbformat": 4,
  "nbformat_minor": 0,
  "metadata": {
    "colab": {
      "provenance": [],
      "authorship_tag": "ABX9TyMUg4L7PUPMMfrisjB0DaB+"
    },
    "kernelspec": {
      "name": "python3",
      "display_name": "Python 3"
    },
    "language_info": {
      "name": "python"
    }
  },
  "cells": [
    {
      "cell_type": "markdown",
      "source": [
        "#Introduction to Tensorflow"
      ],
      "metadata": {
        "id": "cfYrKISrXyrl"
      }
    },
    {
      "cell_type": "code",
      "source": [
        "import tensorflow as tf"
      ],
      "metadata": {
        "id": "XE7jlma_YOqu"
      },
      "execution_count": null,
      "outputs": []
    },
    {
      "cell_type": "markdown",
      "source": [
        "##Creation"
      ],
      "metadata": {
        "id": "dIwhW6lzYCAx"
      }
    },
    {
      "cell_type": "code",
      "execution_count": null,
      "metadata": {
        "id": "M7IIRJjuXw9H"
      },
      "outputs": [],
      "source": [
        "str=tf.Variable(\"String\",tf.string)\n",
        "num=tf.Variable(123,tf.int32)\n",
        "flt=tf.Variable(1.23,tf.float32)"
      ]
    },
    {
      "cell_type": "markdown",
      "source": [
        "##Rank/Degree"
      ],
      "metadata": {
        "id": "oDbArsPmYx3i"
      }
    },
    {
      "cell_type": "code",
      "source": [
        "r1=tf.Variable([\"one\",\"two\",\"three\"],tf.string)\n",
        "r2=tf.Variable([[\"one\",\"two\",\"one\"],[\"three\",\"four\",\"four\"]],tf.string)"
      ],
      "metadata": {
        "id": "PPL2DJo_Y_Ss"
      },
      "execution_count": null,
      "outputs": []
    },
    {
      "cell_type": "code",
      "source": [
        "tf.rank(r1)\n"
      ],
      "metadata": {
        "colab": {
          "base_uri": "https://localhost:8080/"
        },
        "id": "kPvoEh96ZPQh",
        "outputId": "9b72243b-0c1f-46e4-ce84-6f677329593a"
      },
      "execution_count": null,
      "outputs": [
        {
          "output_type": "execute_result",
          "data": {
            "text/plain": [
              "<tf.Tensor: shape=(), dtype=int32, numpy=1>"
            ]
          },
          "metadata": {},
          "execution_count": 33
        }
      ]
    },
    {
      "cell_type": "code",
      "source": [
        "tf.rank(r2)"
      ],
      "metadata": {
        "colab": {
          "base_uri": "https://localhost:8080/"
        },
        "id": "s9dYpsWqZUy4",
        "outputId": "1ab7bfa5-0d23-4cf2-c812-2ce2f41ddf6a"
      },
      "execution_count": null,
      "outputs": [
        {
          "output_type": "execute_result",
          "data": {
            "text/plain": [
              "<tf.Tensor: shape=(), dtype=int32, numpy=2>"
            ]
          },
          "metadata": {},
          "execution_count": 34
        }
      ]
    },
    {
      "cell_type": "markdown",
      "source": [
        "##Shape"
      ],
      "metadata": {
        "id": "N4k0_SdRZmwz"
      }
    },
    {
      "cell_type": "code",
      "source": [
        "tf.shape(r1)"
      ],
      "metadata": {
        "colab": {
          "base_uri": "https://localhost:8080/"
        },
        "id": "WgV6cqMWZdUa",
        "outputId": "7d9ac721-ed6d-446f-b678-22bee81014e6"
      },
      "execution_count": null,
      "outputs": [
        {
          "output_type": "execute_result",
          "data": {
            "text/plain": [
              "<tf.Tensor: shape=(1,), dtype=int32, numpy=array([3], dtype=int32)>"
            ]
          },
          "metadata": {},
          "execution_count": 35
        }
      ]
    },
    {
      "cell_type": "code",
      "source": [
        "tf.shape(r2)"
      ],
      "metadata": {
        "colab": {
          "base_uri": "https://localhost:8080/"
        },
        "id": "6OM3q9TVZg5V",
        "outputId": "b02048e5-01db-4227-f7db-1cb02db9eac1"
      },
      "execution_count": null,
      "outputs": [
        {
          "output_type": "execute_result",
          "data": {
            "text/plain": [
              "<tf.Tensor: shape=(2,), dtype=int32, numpy=array([2, 3], dtype=int32)>"
            ]
          },
          "metadata": {},
          "execution_count": 36
        }
      ]
    },
    {
      "cell_type": "code",
      "source": [
        "arr=tf.ones([2,3])\n",
        "tf.reshape(arr,[3,2])\n",
        "print(arr)\n",
        "tf.reshape(arr,[3,-1])"
      ],
      "metadata": {
        "colab": {
          "base_uri": "https://localhost:8080/"
        },
        "id": "Twp2kUm1aRZY",
        "outputId": "0f5035a5-a0d5-46ed-89c4-1cdc2548d6e7"
      },
      "execution_count": null,
      "outputs": [
        {
          "output_type": "stream",
          "name": "stdout",
          "text": [
            "tf.Tensor(\n",
            "[[1. 1. 1.]\n",
            " [1. 1. 1.]], shape=(2, 3), dtype=float32)\n"
          ]
        },
        {
          "output_type": "execute_result",
          "data": {
            "text/plain": [
              "<tf.Tensor: shape=(3, 2), dtype=float32, numpy=\n",
              "array([[1., 1.],\n",
              "       [1., 1.],\n",
              "       [1., 1.]], dtype=float32)>"
            ]
          },
          "metadata": {},
          "execution_count": 37
        }
      ]
    },
    {
      "cell_type": "markdown",
      "source": [
        "##Types of tensors\n",
        "Variable,\n",
        "Constant,\n",
        "Placeholder,\n",
        "SparseTensor,"
      ],
      "metadata": {
        "id": "PW3fjOUxbT8k"
      }
    }
  ]
}